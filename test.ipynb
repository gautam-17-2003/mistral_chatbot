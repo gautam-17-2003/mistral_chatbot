{
 "cells": [
  {
   "cell_type": "markdown",
   "metadata": {},
   "source": [
    "importing libraries"
   ]
  },
  {
   "cell_type": "code",
   "execution_count": 2,
   "metadata": {},
   "outputs": [],
   "source": [
    "import csv"
   ]
  },
  {
   "cell_type": "code",
   "execution_count": 3,
   "metadata": {},
   "outputs": [],
   "source": [
    "fields = ['user','bot']"
   ]
  },
  {
   "cell_type": "code",
   "execution_count": 1,
   "metadata": {},
   "outputs": [],
   "source": [
    "data = [\n",
    "    ('helli', \" Hello! How can I assist you today? Whether you need help with farm management, animal care, or anything else, I'm here to help. Just to recap, we previously discussed... [topic from previous conversation]. Is there anything related to that, or would you like to focus on a different topic today?\"), \n",
    "    \n",
    "    ('what are rabi crops', \" Hello! I'm here to assist you with all your farming needs. Rabi crops are cool season crops that are sown in winter and harvested in summer. Some examples of Rabi crops include wheat, barley, peas, gram, and mustard. Is there a specific Rabi crop you would like to know more about or is there another topic you would like to discuss?\"),\n",
    "    \n",
    "    ('can you name some', \"  Yes, of course! Rabi crops are cool season crops that are sown in winter and harvested in summer. Here are some examples of Rabi crops:\\n\\n1. Wheat\\n2. Barley\\n3. Peas\\n4. Gram\\n5. Mustard\\n6. Potatoes\\n7. Cabbages\\n8. Cauliflowers\\n9. Carrots\\n10. Beetroot\\n\\nLet me know if you would like to know more about any specific Rabi crop or if there's another topic you'd like to discuss.\"), \n",
    "    \n",
    "    ('discuss about the first one', ' Sure, the first crop on the list is wheat. Wheat is a staple food crop that is widely grown in the Indian subcontinent as a Rabi crop. It is sown in the winter season and harvested in the summer. The crop requires a cool climate for germination and maturation. Wheat is used for making a variety of food products like bread, rotis, cakes, and biscuits. It is also used for making wheat flour, semolina, and breakfast cereals. Wheat is a rich source of carbohydrates, proteins, and dietary fiber.')\n",
    "    \n",
    "    ]\n"
   ]
  },
  {
   "cell_type": "code",
   "execution_count": 4,
   "metadata": {},
   "outputs": [],
   "source": [
    "filename = \"university_records.csv\""
   ]
  },
  {
   "cell_type": "code",
   "execution_count": 5,
   "metadata": {},
   "outputs": [],
   "source": [
    "with open(filename, 'w') as csvfile:\n",
    "    # creating a csv writer object\n",
    "    csvwriter = csv.writer(csvfile)\n",
    " \n",
    "    # writing the fields\n",
    "    csvwriter.writerow(fields)\n",
    " \n",
    "    # writing the data rows\n",
    "    csvwriter.writerows(data)"
   ]
  },
  {
   "cell_type": "code",
   "execution_count": 1,
   "metadata": {},
   "outputs": [],
   "source": [
    "import time"
   ]
  },
  {
   "cell_type": "code",
   "execution_count": 2,
   "metadata": {},
   "outputs": [
    {
     "data": {
      "text/plain": [
       "'2024-03-01'"
      ]
     },
     "execution_count": 2,
     "metadata": {},
     "output_type": "execute_result"
    }
   ],
   "source": [
    "time.strftime(\"%Y-%m-%d\")"
   ]
  },
  {
   "cell_type": "code",
   "execution_count": null,
   "metadata": {},
   "outputs": [],
   "source": []
  }
 ],
 "metadata": {
  "kernelspec": {
   "display_name": "venv",
   "language": "python",
   "name": "python3"
  },
  "language_info": {
   "codemirror_mode": {
    "name": "ipython",
    "version": 3
   },
   "file_extension": ".py",
   "mimetype": "text/x-python",
   "name": "python",
   "nbconvert_exporter": "python",
   "pygments_lexer": "ipython3",
   "version": "3.11.5"
  }
 },
 "nbformat": 4,
 "nbformat_minor": 2
}
